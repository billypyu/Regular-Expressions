{
 "cells": [
  {
   "cell_type": "code",
   "execution_count": 1,
   "metadata": {},
   "outputs": [],
   "source": [
    "import re"
   ]
  },
  {
   "cell_type": "markdown",
   "metadata": {},
   "source": [
    "<h2>re.sub - find and replace</h2>"
   ]
  },
  {
   "cell_type": "markdown",
   "metadata": {},
   "source": [
    "### two patterns: one to find the text and another pattern with replacement text \n",
    "### re.sub(pattern, repl, string, count=0, flags=0)¶"
   ]
  },
  {
   "cell_type": "markdown",
   "metadata": {},
   "source": [
    "Return the string obtained by replacing the leftmost non-overlapping occurrences of pattern in string by the replacement repl. If the pattern isn’t found, string is returned unchanged. repl can be a string or a function"
   ]
  },
  {
   "cell_type": "code",
   "execution_count": 8,
   "metadata": {},
   "outputs": [
    {
     "data": {
      "text/plain": [
       "'Start Date: 09-20-2020, End Date: 09-20-2021'"
      ]
     },
     "execution_count": 8,
     "metadata": {},
     "output_type": "execute_result"
    }
   ],
   "source": [
    "# Format date\n",
    "#  20200920 => 09-20-2020\n",
    "\n",
    "pattern = r\"(?P<year>\\d{4})(?P<month>\\d{2})(?P<day>\\d{2})\"\n",
    "text = \"Start Date: 20200920, End Date: 20210920\"\n",
    "\n",
    "replacement_pattern = r'\\g<month>-\\g<day>-\\g<year>'\n",
    "new_text = re.sub(pattern,replacement_pattern,text)\n",
    "new_text"
   ]
  },
  {
   "cell_type": "code",
   "execution_count": 27,
   "metadata": {},
   "outputs": [
    {
     "name": "stdout",
     "output_type": "stream",
     "text": [
      "movie ticket: 15 dollars. popcorn: 8 dollars\n"
     ]
    }
   ],
   "source": [
    "# Make this an exercise\n",
    "# find one or more digits followed by the word dollars. capture the digits in value group\n",
    "\n",
    "pattern = r\"(?P<value>\\d+)dollars\"\n",
    "\n",
    "text = \"movie ticket: 15dollars. popcorn: 8dollars\"\n",
    "\n",
    "replacement_pattern = r\"\\g<value> dollars\" #space between value and dollars\n",
    "\n",
    "#use re.sub to find and replace\n",
    "new_text = re.sub(pattern,replacement_pattern,text)\n",
    "\n",
    "print(new_text)"
   ]
  },
  {
   "cell_type": "markdown",
   "metadata": {},
   "source": [
    " Instead of replacement pattern, we can also use fundtion that takes input as match object"
   ]
  },
  {
   "cell_type": "code",
   "execution_count": 28,
   "metadata": {},
   "outputs": [
    {
     "name": "stdout",
     "output_type": "stream",
     "text": [
      "original text\t Start Date: 20200920, End Date: 20210920\n",
      "\n",
      "new text\t Start Date: Sep-20-2020, End Date: Sep-20-2021\n"
     ]
    }
   ],
   "source": [
    "# Format \n",
    "#   20200920 => Sep-20-2020\n",
    "import datetime\n",
    "\n",
    "def format_date(match):   \n",
    "    in_date = match.groupdict()\n",
    "    \n",
    "    year = int(in_date['year'])\n",
    "    month = int(in_date['month'])\n",
    "    day = int(in_date['day'])\n",
    "    \n",
    "    #https://docs.python.org/3/library/datetime.html#strftime-strptime-behavior\n",
    "    return datetime.date(year,month,day).strftime('%b-%d-%Y')\n",
    "\n",
    "# Format date\n",
    "pattern = r\"(?P<year>\\d{4})(?P<month>\\d{2})(?P<day>\\d{2})\"\n",
    "text = \"Start Date: 20200920, End Date: 20210920\"\n",
    "\n",
    "print ('original text\\t', text)\n",
    "print()\n",
    "\n",
    "# find and replace\n",
    "new_text= re.sub(pattern, format_date, text)\n",
    "\n",
    "print('new text\\t', new_text)"
   ]
  },
  {
   "cell_type": "code",
   "execution_count": 35,
   "metadata": {},
   "outputs": [],
   "source": [
    "def c_to_f(match):\n",
    "    c = float(match.group('value'))\n",
    "    f = 32.0 + (c * 9.0 / 5.0)\n",
    "    return '{}°F'.format(f)"
   ]
  },
  {
   "cell_type": "code",
   "execution_count": 36,
   "metadata": {},
   "outputs": [
    {
     "name": "stdout",
     "output_type": "stream",
     "text": [
      "Today's temperature is 77.0°F\n"
     ]
    }
   ],
   "source": [
    "# assignment - convert 25 celcius to required temp in farenhiet\n",
    "text = \"Today's temperature is 25°C\"\n",
    "pattern = r\"(?P<value>\\d+)°C\"\n",
    "\n",
    "f_text = re.sub(pattern,c_to_f,text)\n",
    "print(f_text)"
   ]
  },
  {
   "cell_type": "code",
   "execution_count": 37,
   "metadata": {},
   "outputs": [
    {
     "data": {
      "text/plain": [
       "['a-c', 'x', 'y', '1']"
      ]
     },
     "execution_count": 37,
     "metadata": {},
     "output_type": "execute_result"
    }
   ],
   "source": [
    "pattern = r\",\"\n",
    "\n",
    "text = \"a-c,x,y,1\"\n",
    "\n",
    "re.split(pattern,text)"
   ]
  },
  {
   "cell_type": "code",
   "execution_count": null,
   "metadata": {},
   "outputs": [],
   "source": []
  }
 ],
 "metadata": {
  "kernelspec": {
   "display_name": "Python 3",
   "language": "python",
   "name": "python3"
  },
  "language_info": {
   "codemirror_mode": {
    "name": "ipython",
    "version": 3
   },
   "file_extension": ".py",
   "mimetype": "text/x-python",
   "name": "python",
   "nbconvert_exporter": "python",
   "pygments_lexer": "ipython3",
   "version": "3.8.3"
  }
 },
 "nbformat": 4,
 "nbformat_minor": 4
}
