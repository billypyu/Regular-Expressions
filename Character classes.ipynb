{
 "cells": [
  {
   "cell_type": "markdown",
   "metadata": {},
   "source": [
    "# Character classes"
   ]
  },
  {
   "cell_type": "code",
   "execution_count": 1,
   "metadata": {},
   "outputs": [],
   "source": [
    "import re"
   ]
  },
  {
   "cell_type": "markdown",
   "metadata": {},
   "source": [
    "## Digits character class"
   ]
  },
  {
   "cell_type": "code",
   "execution_count": 2,
   "metadata": {},
   "outputs": [
    {
     "name": "stdout",
     "output_type": "stream",
     "text": [
      "INDIA india 12345\n",
      "INDIA india -----\n"
     ]
    }
   ],
   "source": [
    "text = 'INDIA india 12345'\n",
    "pattern = '[0123456789]'\n",
    "\n",
    "replace = '-'\n",
    "\n",
    "ans = re.sub(pattern,replace,text)\n",
    "print(text)\n",
    "print(ans)"
   ]
  },
  {
   "cell_type": "code",
   "execution_count": 3,
   "metadata": {},
   "outputs": [
    {
     "name": "stdout",
     "output_type": "stream",
     "text": [
      "INDIA india 12345\n",
      "INDIA india -----\n"
     ]
    }
   ],
   "source": [
    "# this can also be written as \n",
    "text = 'INDIA india 12345'\n",
    "pattern = '[0-9]'\n",
    "\n",
    "replace = '-'\n",
    "\n",
    "ans = re.sub(pattern,replace,text)\n",
    "print(text)\n",
    "print(ans)"
   ]
  },
  {
   "cell_type": "code",
   "execution_count": 4,
   "metadata": {},
   "outputs": [
    {
     "name": "stdout",
     "output_type": "stream",
     "text": [
      "INDIA india 12345\n",
      "INDIA india -----\n"
     ]
    }
   ],
   "source": [
    "# also we can use character class - \\d\n",
    "text = 'INDIA india 12345'\n",
    "pattern = '\\d'\n",
    "\n",
    "replace = '-'\n",
    "\n",
    "ans = re.sub(pattern,replace,text)\n",
    "print(text)\n",
    "print(ans)"
   ]
  },
  {
   "cell_type": "code",
   "execution_count": 5,
   "metadata": {},
   "outputs": [
    {
     "name": "stdout",
     "output_type": "stream",
     "text": [
      "INDIA india 12345 १२३४५६७८९०\n",
      "INDIA india ----- ----------\n"
     ]
    }
   ],
   "source": [
    "# character classes also reads digits in another scripts, let's also include devnagri script\n",
    "text = 'INDIA india 12345 १२३४५६७८९०'\n",
    "pattern = '\\d'\n",
    "\n",
    "replace = '-'\n",
    "\n",
    "ans = re.sub(pattern,replace,text)\n",
    "print(text)\n",
    "print(ans)"
   ]
  },
  {
   "cell_type": "markdown",
   "metadata": {},
   "source": [
    "### Negation using character classes, using \\D"
   ]
  },
  {
   "cell_type": "code",
   "execution_count": 7,
   "metadata": {},
   "outputs": [
    {
     "name": "stdout",
     "output_type": "stream",
     "text": [
      "INDIA india 12345 १२३४५६७८९०\n",
      "------------12345-१२३४५६७८९०\n"
     ]
    }
   ],
   "source": [
    "# to find the charaters that are not digits, we just need to use \\D instead of \\d\n",
    "text = 'INDIA india 12345 १२३४५६७८९०'\n",
    "pattern = '\\D'\n",
    "\n",
    "replace = '-'\n",
    "\n",
    "ans = re.sub(pattern,replace,text)\n",
    "print(text)\n",
    "print(ans)"
   ]
  },
  {
   "cell_type": "markdown",
   "metadata": {},
   "source": [
    "## Word character class"
   ]
  },
  {
   "cell_type": "markdown",
   "metadata": {},
   "source": [
    "just like we did above, for finding words, we can use patterns like 'a-z' for finding all characters (lowercase) between a to z. <br>\n",
    "pattern like '[a-zA-z]' will find all the characters between a-z and also A-Z. "
   ]
  },
  {
   "cell_type": "code",
   "execution_count": 9,
   "metadata": {},
   "outputs": [
    {
     "name": "stdout",
     "output_type": "stream",
     "text": [
      "INDIA india 12345\n",
      "----- ----- -----\n"
     ]
    }
   ],
   "source": [
    "# using word character class \\w\n",
    "# it will search for all alpha numeric characters (but not space, tabs and newlines)\n",
    "text = 'INDIA india 12345'\n",
    "pattern = '\\w'\n",
    "\n",
    "replace = '-'\n",
    "\n",
    "ans = re.sub(pattern,replace,text)\n",
    "print(text)\n",
    "print(ans)"
   ]
  },
  {
   "cell_type": "code",
   "execution_count": 10,
   "metadata": {},
   "outputs": [
    {
     "name": "stdout",
     "output_type": "stream",
     "text": [
      "INDIA india 12345 हार्दिक\n",
      "----- ----- ----- -ा-्-ि-\n"
     ]
    }
   ],
   "source": [
    "# it can also searh for words other than english, i added hindi word to it.\n",
    "text = 'INDIA india 12345 हार्दिक'\n",
    "pattern = '\\w'\n",
    "\n",
    "replace = '-'\n",
    "\n",
    "ans = re.sub(pattern,replace,text)\n",
    "print(text)\n",
    "print(ans)"
   ]
  },
  {
   "cell_type": "markdown",
   "metadata": {},
   "source": [
    "We can see it matches all the words , but not the matras which are used in devnagiri script,and is common in all Indian languages"
   ]
  },
  {
   "cell_type": "markdown",
   "metadata": {},
   "source": [
    "### Negation of word class character "
   ]
  },
  {
   "cell_type": "code",
   "execution_count": 12,
   "metadata": {},
   "outputs": [
    {
     "name": "stdout",
     "output_type": "stream",
     "text": [
      "INDIA india 12345 हार्दिक\n",
      "INDIA-india-12345-ह-र-द-क\n"
     ]
    }
   ],
   "source": [
    "# we can use \\W to find the negation of all the characters that are found by \\W\n",
    "text = 'INDIA india 12345 हार्दिक'\n",
    "pattern = '\\W'\n",
    "\n",
    "replace = '-'\n",
    "\n",
    "ans = re.sub(pattern,replace,text)\n",
    "print(text)\n",
    "print(ans)"
   ]
  },
  {
   "cell_type": "code",
   "execution_count": null,
   "metadata": {},
   "outputs": [],
   "source": []
  }
 ],
 "metadata": {
  "kernelspec": {
   "display_name": "Python 3",
   "language": "python",
   "name": "python3"
  },
  "language_info": {
   "codemirror_mode": {
    "name": "ipython",
    "version": 3
   },
   "file_extension": ".py",
   "mimetype": "text/x-python",
   "name": "python",
   "nbconvert_exporter": "python",
   "pygments_lexer": "ipython3",
   "version": "3.8.3"
  }
 },
 "nbformat": 4,
 "nbformat_minor": 4
}
