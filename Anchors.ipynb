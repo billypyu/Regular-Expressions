{
 "cells": [
  {
   "cell_type": "markdown",
   "metadata": {},
   "source": [
    "# Anchors"
   ]
  },
  {
   "cell_type": "code",
   "execution_count": 1,
   "metadata": {},
   "outputs": [],
   "source": [
    "import re"
   ]
  },
  {
   "cell_type": "code",
   "execution_count": 18,
   "metadata": {},
   "outputs": [
    {
     "name": "stdout",
     "output_type": "stream",
     "text": [
      "catalog of book using log and logarithm\n",
      "cata--- of book using --- and ---arithm\n"
     ]
    }
   ],
   "source": [
    "text = 'catalog of book using log and logarithm'\n",
    "pattern = 'log'\n",
    "\n",
    "replace = '---'\n",
    "\n",
    "ans = re.sub(pattern,replace,text)\n",
    "\n",
    "print(text)\n",
    "print(ans)"
   ]
  },
  {
   "cell_type": "markdown",
   "metadata": {},
   "source": [
    "The above pattern finds each instance of 'log', even in the words 'catalog' and 'logarithm'"
   ]
  },
  {
   "cell_type": "markdown",
   "metadata": {},
   "source": [
    "What if we wanted to find only the complete word 'log'"
   ]
  },
  {
   "cell_type": "code",
   "execution_count": 19,
   "metadata": {},
   "outputs": [
    {
     "name": "stdout",
     "output_type": "stream",
     "text": [
      "catalog of book using log and logarithm\n",
      "catalog of book using --- and logarithm\n"
     ]
    }
   ],
   "source": [
    "text = 'catalog of book using log and logarithm'\n",
    "pattern = r'\\blog\\b'\n",
    "\n",
    "replace = '---'\n",
    "\n",
    "ans = re.sub(pattern,replace,text)\n",
    "\n",
    "print(text)\n",
    "print(ans)"
   ]
  },
  {
   "cell_type": "markdown",
   "metadata": {},
   "source": [
    "Now it replaces only the word 'log'"
   ]
  },
  {
   "cell_type": "markdown",
   "metadata": {},
   "source": [
    "## Searching for words only the start of a string or line"
   ]
  },
  {
   "cell_type": "code",
   "execution_count": 20,
   "metadata": {},
   "outputs": [
    {
     "name": "stdout",
     "output_type": "stream",
     "text": [
      "apple grows on apple tree\n",
      "----- grows on ----- tree\n"
     ]
    }
   ],
   "source": [
    "text = 'apple grows on apple tree'\n",
    "pattern = 'apple'\n",
    "\n",
    "replace = '-'*len(pattern)\n",
    "\n",
    "ans = re.sub(pattern,replace,text)\n",
    "\n",
    "print(text)\n",
    "print(ans)"
   ]
  },
  {
   "cell_type": "markdown",
   "metadata": {},
   "source": [
    "It searches both the apple, the one at the start and the one which is in the sentence. But what if we want to search only the one at the start. We will use '^' for this"
   ]
  },
  {
   "cell_type": "code",
   "execution_count": 21,
   "metadata": {},
   "outputs": [
    {
     "name": "stdout",
     "output_type": "stream",
     "text": [
      "apple grows on apple tree\n",
      "----- grows on apple tree\n"
     ]
    }
   ],
   "source": [
    "text = 'apple grows on apple tree'\n",
    "pattern = '^apple'\n",
    "\n",
    "replace = '-'*5\n",
    "\n",
    "ans = re.sub(pattern,replace,text)\n",
    "\n",
    "print(text)\n",
    "print(ans)"
   ]
  },
  {
   "cell_type": "code",
   "execution_count": 23,
   "metadata": {},
   "outputs": [
    {
     "name": "stdout",
     "output_type": "stream",
     "text": [
      "apple 1 grows on apple tree\n",
      "apple 2 grows on apple tree\n",
      "\n",
      "----- 1 grows on apple tree\n",
      "apple 2 grows on apple tree\n"
     ]
    }
   ],
   "source": [
    "text = '''apple 1 grows on apple tree\n",
    "apple 2 grows on apple tree'''\n",
    "\n",
    "pattern = '^apple'\n",
    "\n",
    "replace = '-'*5\n",
    "\n",
    "ans = re.sub(pattern,replace,text)\n",
    "\n",
    "print(text)\n",
    "print('')\n",
    "print(ans)"
   ]
  },
  {
   "cell_type": "markdown",
   "metadata": {},
   "source": [
    "The above pattern searches for only one apple, but apple occurs at the start of both the lines, how to search for it. <br>\n",
    "Basically what is happening is that the given sentence is implemented as - <br>\n",
    "'apple1 grows on apple tree\\napple 2 grows on apple tree' <br>\n",
    "so, we need to enable multiline mode. which is done by (?m)"
   ]
  },
  {
   "cell_type": "code",
   "execution_count": 24,
   "metadata": {},
   "outputs": [
    {
     "name": "stdout",
     "output_type": "stream",
     "text": [
      "apple 1 grows on apple tree\n",
      "apple 2 grows on apple tree\n",
      "\n",
      "----- 1 grows on apple tree\n",
      "----- 2 grows on apple tree\n"
     ]
    }
   ],
   "source": [
    "text = '''apple 1 grows on apple tree\n",
    "apple 2 grows on apple tree'''\n",
    "\n",
    "pattern = '(?m)^apple'\n",
    "\n",
    "replace = '-'*5\n",
    "\n",
    "ans = re.sub(pattern,replace,text)\n",
    "\n",
    "print(text)\n",
    "print('')\n",
    "print(ans)"
   ]
  },
  {
   "cell_type": "markdown",
   "metadata": {},
   "source": [
    "Now, it finds out apple at the start of both the strings"
   ]
  },
  {
   "cell_type": "markdown",
   "metadata": {},
   "source": [
    "## Finding words at the end of a string or line"
   ]
  },
  {
   "cell_type": "code",
   "execution_count": 25,
   "metadata": {},
   "outputs": [
    {
     "name": "stdout",
     "output_type": "stream",
     "text": [
      "apple is a fruit, there is also a brand named apple\n",
      "\n",
      "apple is a fruit, there is also a brand named -----\n"
     ]
    }
   ],
   "source": [
    "text = '''apple is a fruit, there is also a brand named apple'''\n",
    "\n",
    "pattern = 'apple$'\n",
    "\n",
    "replace = '-'*5\n",
    "\n",
    "ans = re.sub(pattern,replace,text)\n",
    "\n",
    "print(text)\n",
    "print('')\n",
    "print(ans)"
   ]
  },
  {
   "cell_type": "code",
   "execution_count": 26,
   "metadata": {},
   "outputs": [
    {
     "name": "stdout",
     "output_type": "stream",
     "text": [
      "apple is a fruit, there is also a brand named apple\n",
      "I love apple\n",
      "\n",
      "apple is a fruit, there is also a brand named apple\n",
      "I love -----\n"
     ]
    }
   ],
   "source": [
    "# multile lines\n",
    "text = '''apple is a fruit, there is also a brand named apple\n",
    "I love apple'''\n",
    "\n",
    "pattern = 'apple$'\n",
    "\n",
    "replace = '-'*5\n",
    "\n",
    "ans = re.sub(pattern,replace,text)\n",
    "\n",
    "print(text)\n",
    "print('')\n",
    "print(ans)"
   ]
  },
  {
   "cell_type": "markdown",
   "metadata": {},
   "source": [
    "Now in this case, the pattern doesn't search for the last word of the first line, which is apple. <br>\n",
    "For this we again need to enable the multiline flag"
   ]
  },
  {
   "cell_type": "code",
   "execution_count": 27,
   "metadata": {},
   "outputs": [
    {
     "name": "stdout",
     "output_type": "stream",
     "text": [
      "apple is a fruit, there is also a brand named apple\n",
      "I love apple\n",
      "\n",
      "apple is a fruit, there is also a brand named -----\n",
      "I love -----\n"
     ]
    }
   ],
   "source": [
    "# multile lines\n",
    "text = '''apple is a fruit, there is also a brand named apple\n",
    "I love apple'''\n",
    "\n",
    "pattern = '(?m)apple$'\n",
    "\n",
    "replace = '-'*5\n",
    "\n",
    "ans = re.sub(pattern,replace,text)\n",
    "\n",
    "print(text)\n",
    "print('')\n",
    "print(ans)"
   ]
  },
  {
   "cell_type": "markdown",
   "metadata": {},
   "source": [
    "now, it searches for both the apples, at the end of each line"
   ]
  },
  {
   "cell_type": "code",
   "execution_count": null,
   "metadata": {},
   "outputs": [],
   "source": []
  }
 ],
 "metadata": {
  "kernelspec": {
   "display_name": "Python 3",
   "language": "python",
   "name": "python3"
  },
  "language_info": {
   "codemirror_mode": {
    "name": "ipython",
    "version": 3
   },
   "file_extension": ".py",
   "mimetype": "text/x-python",
   "name": "python",
   "nbconvert_exporter": "python",
   "pygments_lexer": "ipython3",
   "version": "3.8.3"
  }
 },
 "nbformat": 4,
 "nbformat_minor": 4
}
