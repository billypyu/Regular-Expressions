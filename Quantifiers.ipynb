{
 "cells": [
  {
   "cell_type": "markdown",
   "metadata": {},
   "source": [
    "# Quantifiers"
   ]
  },
  {
   "cell_type": "code",
   "execution_count": 1,
   "metadata": {},
   "outputs": [],
   "source": [
    "import re"
   ]
  },
  {
   "cell_type": "markdown",
   "metadata": {},
   "source": [
    "Quantifiers are used to perform custom search, example searching for a letter followed by a word"
   ]
  },
  {
   "cell_type": "code",
   "execution_count": 7,
   "metadata": {},
   "outputs": [],
   "source": [
    "def replace_text(match):\n",
    "    return '-'*len(match.group(0))\n",
    "    "
   ]
  },
  {
   "cell_type": "markdown",
   "metadata": {},
   "source": [
    "### An aplhabet followed by a digit"
   ]
  },
  {
   "cell_type": "code",
   "execution_count": 8,
   "metadata": {},
   "outputs": [
    {
     "name": "stdout",
     "output_type": "stream",
     "text": [
      "the passwords are a1 and b3\n",
      "the passwords are -- and --\n"
     ]
    }
   ],
   "source": [
    "text = 'the passwords are a1 and b3'\n",
    "pattern = '[a-z][0-9]'\n",
    "\n",
    "ans = re.sub(pattern,replace_text,text)\n",
    "\n",
    "print(text)\n",
    "print(ans)"
   ]
  },
  {
   "cell_type": "markdown",
   "metadata": {},
   "source": [
    "the above pattern searches for all the words which contains an aplhabet followed by a digit"
   ]
  },
  {
   "cell_type": "markdown",
   "metadata": {},
   "source": [
    "### An alphabet followed by one or more digit"
   ]
  },
  {
   "cell_type": "code",
   "execution_count": 11,
   "metadata": {},
   "outputs": [
    {
     "name": "stdout",
     "output_type": "stream",
     "text": [
      "the passwords are a1 b3 c a123 abc ab1 123 123a\n",
      "--- --------- --- -- -- - ---- --- --- 123 123-\n"
     ]
    }
   ],
   "source": [
    "text = 'the passwords are a1 b3 c a123 abc ab1 123 123a'\n",
    "pattern = '[a-z][0-9]*' # searches for all the instances where a character is followed by zero or more digits\n",
    "\n",
    "ans = re.sub(pattern,replace_text,text)\n",
    "\n",
    "print(text)\n",
    "print(ans)"
   ]
  },
  {
   "cell_type": "code",
   "execution_count": 14,
   "metadata": {},
   "outputs": [
    {
     "name": "stdout",
     "output_type": "stream",
     "text": [
      "the passwords are a1 b3 c a123 abc ab1 123 123a\n",
      "the passwords are -- -- - ---- abc ab1 123 123a\n"
     ]
    }
   ],
   "source": [
    "# to avoid partial matches, and look for complete words only\n",
    "text = 'the passwords are a1 b3 c a123 abc ab1 123 123a'\n",
    "pattern = r'\\b[a-z][0-9]*\\b' # looks for the words which starts with alphabet followed by one or more digits\n",
    "\n",
    "ans = re.sub(pattern,replace_text,text)\n",
    "\n",
    "print(text)\n",
    "print(ans)"
   ]
  },
  {
   "cell_type": "markdown",
   "metadata": {},
   "source": [
    "### An alphabet followed by one or more digits"
   ]
  },
  {
   "cell_type": "code",
   "execution_count": 17,
   "metadata": {},
   "outputs": [
    {
     "name": "stdout",
     "output_type": "stream",
     "text": [
      "the passwords are a1 b3 c a123 abc ab1 123 123a\n",
      "the passwords are -- -- c ---- abc ab1 123 123a\n"
     ]
    }
   ],
   "source": [
    "text = 'the passwords are a1 b3 c a123 abc ab1 123 123a'\n",
    "pattern = r'\\b[a-z][0-9]+\\b' # words which starts with alphabet and contains one or more digits\n",
    "\n",
    "ans = re.sub(pattern,replace_text,text)\n",
    "\n",
    "print(text)\n",
    "print(ans)"
   ]
  },
  {
   "cell_type": "markdown",
   "metadata": {},
   "source": [
    "in this case, c is not replaced. as it has no letters after it"
   ]
  },
  {
   "cell_type": "markdown",
   "metadata": {},
   "source": [
    "### An aplhabest followed by an optional digit"
   ]
  },
  {
   "cell_type": "code",
   "execution_count": 19,
   "metadata": {},
   "outputs": [
    {
     "name": "stdout",
     "output_type": "stream",
     "text": [
      "the passwords are a1 b3 c a123 abc ab1 123 123a\n",
      "the passwords are -- -- - a123 abc ab1 123 123a\n"
     ]
    }
   ],
   "source": [
    "text = 'the passwords are a1 b3 c a123 abc ab1 123 123a'\n",
    "pattern = r'\\b[a-z][0-9]?\\b'\n",
    "\n",
    "ans = re.sub(pattern,replace_text,text)\n",
    "\n",
    "print(text)\n",
    "print(ans)"
   ]
  },
  {
   "cell_type": "markdown",
   "metadata": {},
   "source": [
    "Note that a123 and ab1 are not subtituted"
   ]
  },
  {
   "cell_type": "markdown",
   "metadata": {},
   "source": [
    "### Two alphabets followed by one or more digits"
   ]
  },
  {
   "cell_type": "code",
   "execution_count": 21,
   "metadata": {},
   "outputs": [
    {
     "name": "stdout",
     "output_type": "stream",
     "text": [
      "the passwords are a1 b3 c a123 abc ab1 123 123a\n",
      "the passwords are a1 b3 c a123 abc --- 123 123a\n"
     ]
    }
   ],
   "source": [
    "text = 'the passwords are a1 b3 c a123 abc ab1 123 123a'\n",
    "pattern = r'\\b[a-z]{2}[0-9]+\\b'\n",
    "\n",
    "ans = re.sub(pattern,replace_text,text)\n",
    "\n",
    "print(text)\n",
    "print(ans)"
   ]
  },
  {
   "cell_type": "markdown",
   "metadata": {},
   "source": [
    "### One or more alphabets followed by one or more digits"
   ]
  },
  {
   "cell_type": "code",
   "execution_count": 24,
   "metadata": {},
   "outputs": [
    {
     "name": "stdout",
     "output_type": "stream",
     "text": [
      "the passwords are a1 b3 c a123 abc ab1 123 123a\n",
      "the passwords are -- -- c ---- abc --- 123 123a\n"
     ]
    }
   ],
   "source": [
    "text = 'the passwords are a1 b3 c a123 abc ab1 123 123a'\n",
    "pattern = r'\\b[a-z]{1,}[0-9]+\\b'\n",
    "\n",
    "ans = re.sub(pattern,replace_text,text)\n",
    "\n",
    "print(text)\n",
    "print(ans)"
   ]
  },
  {
   "cell_type": "code",
   "execution_count": 27,
   "metadata": {},
   "outputs": [
    {
     "name": "stdout",
     "output_type": "stream",
     "text": [
      "['Pine', 'apple', 'Juice']\n"
     ]
    }
   ],
   "source": [
    "text = 'Pine-apple Juice'\n",
    "pattern = r'\\w+'\n",
    "\n",
    "ans = re.findall(pattern,text)\n",
    "\n",
    "print(ans)"
   ]
  },
  {
   "cell_type": "code",
   "execution_count": null,
   "metadata": {},
   "outputs": [],
   "source": []
  }
 ],
 "metadata": {
  "kernelspec": {
   "display_name": "Python 3",
   "language": "python",
   "name": "python3"
  },
  "language_info": {
   "codemirror_mode": {
    "name": "ipython",
    "version": 3
   },
   "file_extension": ".py",
   "mimetype": "text/x-python",
   "name": "python",
   "nbconvert_exporter": "python",
   "pygments_lexer": "ipython3",
   "version": "3.8.3"
  }
 },
 "nbformat": 4,
 "nbformat_minor": 4
}
