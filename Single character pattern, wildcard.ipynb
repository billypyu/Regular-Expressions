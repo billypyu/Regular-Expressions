{
 "cells": [
  {
   "cell_type": "code",
   "execution_count": 1,
   "metadata": {},
   "outputs": [],
   "source": [
    "import re"
   ]
  },
  {
   "cell_type": "code",
   "execution_count": 4,
   "metadata": {},
   "outputs": [
    {
     "data": {
      "text/plain": [
       "'this is - gre-t test'"
      ]
     },
     "execution_count": 4,
     "metadata": {},
     "output_type": "execute_result"
    }
   ],
   "source": [
    "text = 'this is a great test'\n",
    "# find all the occurences of letter 'a'\n",
    "\n",
    "pattern = 'a'\n",
    "sub_text = re.sub(pattern,'-',text) # this finds the matches and replaces it with a - \n",
    "# it enables us to view what characters were matched\n",
    "sub_text"
   ]
  },
  {
   "cell_type": "markdown",
   "metadata": {},
   "source": [
    "## Regex is case senstive "
   ]
  },
  {
   "cell_type": "code",
   "execution_count": 6,
   "metadata": {},
   "outputs": [
    {
     "data": {
      "text/plain": [
       "'this is a great test'"
      ]
     },
     "execution_count": 6,
     "metadata": {},
     "output_type": "execute_result"
    }
   ],
   "source": [
    "text = 'this is a great test'\n",
    "# find all the occurences of letter 'a'\n",
    "\n",
    "pattern = 'A'\n",
    "sub_text = re.sub(pattern,'-',text) # this finds the matches and replaces it with a - \n",
    "# it enables us to view what characters were matched\n",
    "sub_text # the output shows that nothing was replaced was -"
   ]
  },
  {
   "cell_type": "markdown",
   "metadata": {},
   "source": [
    "## Making regex case insensitive"
   ]
  },
  {
   "cell_type": "code",
   "execution_count": 8,
   "metadata": {},
   "outputs": [
    {
     "data": {
      "text/plain": [
       "'this is - gre-t test'"
      ]
     },
     "execution_count": 8,
     "metadata": {},
     "output_type": "execute_result"
    }
   ],
   "source": [
    "text = 'this is a great test'\n",
    "# find all the occurences of letter 'a'\n",
    "\n",
    "pattern = '(?i)A' # using (?i) makes it case insensitive, hence it now searches for 'a' and 'A'\n",
    "sub_text = re.sub(pattern,'-',text) \n",
    "sub_text "
   ]
  },
  {
   "cell_type": "code",
   "execution_count": 12,
   "metadata": {},
   "outputs": [
    {
     "name": "stdout",
     "output_type": "stream",
     "text": [
      "this is a biggest test\n",
      "this is a ---gest test\n"
     ]
    }
   ],
   "source": [
    "# using more than one character\n",
    "text = 'this is a biggest test'\n",
    "\n",
    "pattern = 'big' \n",
    "sub_text = re.sub(pattern,'-'*len(pattern),text)\n",
    "print(text)\n",
    "print(sub_text) "
   ]
  },
  {
   "cell_type": "code",
   "execution_count": null,
   "metadata": {},
   "outputs": [],
   "source": [
    "# using more than one character\n",
    "text = 'this is a biggest test'\n",
    "\n",
    "pattern = 'big'  # searches for the word big\n",
    "sub_text = re.sub(pattern,'-'*len(pattern),text)\n",
    "print(text)\n",
    "print(sub_text) "
   ]
  },
  {
   "cell_type": "code",
   "execution_count": 13,
   "metadata": {},
   "outputs": [
    {
     "name": "stdout",
     "output_type": "stream",
     "text": [
      "this is a biggest test\n",
      "th-s -s a ----est test\n"
     ]
    }
   ],
   "source": [
    "# either of b or i or g\n",
    "text = 'this is a biggest test'\n",
    "\n",
    "pattern = 'b|i|g' \n",
    "sub_text = re.sub(pattern,'-',text)\n",
    "print(text)\n",
    "print(sub_text) "
   ]
  },
  {
   "cell_type": "code",
   "execution_count": 15,
   "metadata": {},
   "outputs": [
    {
     "name": "stdout",
     "output_type": "stream",
     "text": [
      "this is a biggest test\n",
      "th-s -s a ----est test\n"
     ]
    }
   ],
   "source": [
    "# or we can set for this \n",
    "\n",
    "text = 'this is a biggest test'\n",
    "\n",
    "pattern =  '[big]'\n",
    "sub_text = re.sub(pattern,'-',text)\n",
    "print(text)\n",
    "print(sub_text) "
   ]
  },
  {
   "cell_type": "markdown",
   "metadata": {},
   "source": [
    "NOTE - \n",
    "Earlier we used '^' to find a pattern at the beggining of a sentence. But when used inside a set (at the beggining) it is used to negate the values preceding it. <br>\n",
    "'[^a]' pattern will search for all the characters that are not 'a' <br>\n",
    "'[a^b]' pattern will look for the characters 'a' '^' and 'b'"
   ]
  },
  {
   "cell_type": "code",
   "execution_count": 22,
   "metadata": {},
   "outputs": [
    {
     "name": "stdout",
     "output_type": "stream",
     "text": [
      "this is a biggest test\n",
      "--i--i--a--i--e----e--\n"
     ]
    }
   ],
   "source": [
    "text = 'this is a biggest test'\n",
    "\n",
    "pattern =  '[^aeiou]' # not the vowels\n",
    "sub_text = re.sub(pattern,'-',text)\n",
    "print(text)\n",
    "print(sub_text) "
   ]
  },
  {
   "cell_type": "markdown",
   "metadata": {},
   "source": [
    "# Range of characters"
   ]
  },
  {
   "cell_type": "code",
   "execution_count": 24,
   "metadata": {},
   "outputs": [
    {
     "name": "stdout",
     "output_type": "stream",
     "text": [
      "this is a biggest test\n",
      "this is - -iggest test\n"
     ]
    }
   ],
   "source": [
    "text = 'this is a biggest test'\n",
    "\n",
    "pattern =  '[a-d]'\n",
    "sub_text = re.sub(pattern,'-',text)\n",
    "print(text)\n",
    "print(sub_text) "
   ]
  },
  {
   "cell_type": "code",
   "execution_count": 25,
   "metadata": {},
   "outputs": [
    {
     "name": "stdout",
     "output_type": "stream",
     "text": [
      "this is a biggest test\n",
      "---- -- a b------ ----\n"
     ]
    }
   ],
   "source": [
    "text = 'this is a biggest test'\n",
    "\n",
    "pattern =  '[e-z]'\n",
    "sub_text = re.sub(pattern,'-',text)\n",
    "print(text)\n",
    "print(sub_text) "
   ]
  },
  {
   "cell_type": "code",
   "execution_count": 32,
   "metadata": {},
   "outputs": [
    {
     "name": "stdout",
     "output_type": "stream",
     "text": [
      "this is a biggest test\n",
      "-h------a-b-gge----e--\n"
     ]
    }
   ],
   "source": [
    "# negating range of characters \n",
    "text = 'this is a biggest test'\n",
    "\n",
    "pattern =  '[^a-h]'\n",
    "sub_text = re.sub(pattern,'-',text)\n",
    "print(text)\n",
    "print(sub_text) "
   ]
  },
  {
   "cell_type": "markdown",
   "metadata": {},
   "source": [
    "# Wildcard"
   ]
  },
  {
   "cell_type": "code",
   "execution_count": 33,
   "metadata": {},
   "outputs": [
    {
     "name": "stdout",
     "output_type": "stream",
     "text": [
      "this is a biggest test\n",
      "----------------------\n"
     ]
    }
   ],
   "source": [
    "# . (dot) can match all characters except a newline \n",
    "\n",
    "text = 'this is a biggest test'\n",
    "\n",
    "pattern =  '.'\n",
    "sub_text = re.sub(pattern,'-',text)\n",
    "print(text)\n",
    "print(sub_text) "
   ]
  },
  {
   "cell_type": "code",
   "execution_count": 36,
   "metadata": {},
   "outputs": [
    {
     "name": "stdout",
     "output_type": "stream",
     "text": [
      "this is line 1\n",
      "this is line 2\n",
      "--------------\n",
      "--------------\n"
     ]
    }
   ],
   "source": [
    "# if we have a newline\n",
    "text = 'this is line 1\\nthis is line 2'\n",
    "\n",
    "pattern =  '.'\n",
    "sub_text = re.sub(pattern,'-',text)\n",
    "print(text)\n",
    "print(sub_text) "
   ]
  },
  {
   "cell_type": "code",
   "execution_count": 38,
   "metadata": {},
   "outputs": [
    {
     "name": "stdout",
     "output_type": "stream",
     "text": [
      "this is line 1\n",
      "this is line 2\n",
      "-----------------------------\n"
     ]
    }
   ],
   "source": [
    "# this can be solved by using a flag\n",
    "text = 'this is line 1\\nthis is line 2'\n",
    "\n",
    "pattern =  '(?s).'\n",
    "sub_text = re.sub(pattern,'-',text)\n",
    "print(text)\n",
    "print(sub_text)  # the output now shows on a single line"
   ]
  },
  {
   "cell_type": "code",
   "execution_count": 40,
   "metadata": {},
   "outputs": [
    {
     "name": "stdout",
     "output_type": "stream",
     "text": [
      "we have a dot here. here. and also here.\n",
      "----------------------------------------\n"
     ]
    }
   ],
   "source": [
    "# but how to seach for a . then \n",
    "text = 'we have a dot here. here. and also here.'\n",
    "\n",
    "pattern =  '.'\n",
    "sub_text = re.sub(pattern,'-',text)\n",
    "print(text)\n",
    "print(sub_text) # this does not searches for the dot"
   ]
  },
  {
   "cell_type": "code",
   "execution_count": 41,
   "metadata": {},
   "outputs": [
    {
     "name": "stdout",
     "output_type": "stream",
     "text": [
      "we have a dot here. here. and also here.\n",
      "we have a dot here- here- and also here-\n"
     ]
    }
   ],
   "source": [
    "text = 'we have a dot here. here. and also here.'\n",
    "\n",
    "pattern =  '\\.' # use /. to seach for a dot\n",
    "sub_text = re.sub(pattern,'-',text)\n",
    "print(text)\n",
    "print(sub_text) # now it does"
   ]
  },
  {
   "cell_type": "code",
   "execution_count": 43,
   "metadata": {},
   "outputs": [
    {
     "name": "stdout",
     "output_type": "stream",
     "text": [
      "we have a dot here. here. and also here.\n",
      "we have a dot here- here- and also here-\n"
     ]
    }
   ],
   "source": [
    "# or...use set \n",
    "text = 'we have a dot here. here. and also here.'\n",
    "\n",
    "pattern =  '[.]'\n",
    "sub_text = re.sub(pattern,'-',text)\n",
    "print(text)\n",
    "print(sub_text) \n"
   ]
  },
  {
   "cell_type": "code",
   "execution_count": 54,
   "metadata": {},
   "outputs": [],
   "source": [
    "# finding the occurance of a newline\n",
    "\n",
    "text = '''Hello all\n",
    "My name is Hardik\n",
    "And i am from India'''"
   ]
  },
  {
   "cell_type": "code",
   "execution_count": 56,
   "metadata": {},
   "outputs": [
    {
     "name": "stdout",
     "output_type": "stream",
     "text": [
      "Hello all\n",
      "My name is Hardik\n",
      "And i am from India\n",
      "\n",
      "Hello all-My name is Hardik-And i am from India\n"
     ]
    }
   ],
   "source": [
    "\n",
    "pattern =  '\\n'\n",
    "sub_text = re.sub(pattern,'-',text)\n",
    "print(text)\n",
    "print('')\n",
    "print(sub_text) \n"
   ]
  },
  {
   "cell_type": "markdown",
   "metadata": {},
   "source": [
    "we can also use the unicode and hexadecimal code for \\n"
   ]
  },
  {
   "cell_type": "code",
   "execution_count": null,
   "metadata": {},
   "outputs": [],
   "source": []
  }
 ],
 "metadata": {
  "kernelspec": {
   "display_name": "Python 3",
   "language": "python",
   "name": "python3"
  },
  "language_info": {
   "codemirror_mode": {
    "name": "ipython",
    "version": 3
   },
   "file_extension": ".py",
   "mimetype": "text/x-python",
   "name": "python",
   "nbconvert_exporter": "python",
   "pygments_lexer": "ipython3",
   "version": "3.8.3"
  }
 },
 "nbformat": 4,
 "nbformat_minor": 4
}
