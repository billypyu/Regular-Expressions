{
 "cells": [
  {
   "cell_type": "code",
   "execution_count": 1,
   "metadata": {},
   "outputs": [],
   "source": [
    "import re"
   ]
  },
  {
   "cell_type": "markdown",
   "metadata": {},
   "source": [
    "<h2>re.search - Find the first match anywhere</h2>\n",
    "Scan through string looking for the first location where the regular expression pattern produces a match, and return a corresponding match object. Return None if no position in the string matches the pattern; note that this is different from finding a zero-length match at some point in the string."
   ]
  },
  {
   "cell_type": "code",
   "execution_count": 2,
   "metadata": {},
   "outputs": [
    {
     "name": "stdout",
     "output_type": "stream",
     "text": [
      "Match  52  at position  0\n"
     ]
    }
   ],
   "source": [
    "pattern = r'\\d+'\n",
    "sent = '52 is my lucky number 12' # it only shows the first number\n",
    "\n",
    "match = re.search(pattern,sent)\n",
    "\n",
    "if match:\n",
    "    print('Match ',match.group(0),' at position ',match.start())\n",
    "else:\n",
    "    print('No match')"
   ]
  },
  {
   "cell_type": "code",
   "execution_count": 3,
   "metadata": {},
   "outputs": [],
   "source": [
    "def is_integer(text):\n",
    "    pattern = '^\\d+$' # looks for strings that ends with an integer\n",
    "    match = re.search(pattern,text) # match loos for integers at the start of the string\n",
    "    return True if match else False\n",
    "\n",
    "def is_integer_test():\n",
    "    pass_list = ['12','432','2','9878','12','532']\n",
    "    fail_list = ['abc','a123','3  4','123a','hardik1']\n",
    "    flag = 0\n",
    "    \n",
    "    for item in pass_list:\n",
    "        if not is_integer(item):\n",
    "            print('\\tItem ', item, ' not identified as an integer')\n",
    "            flag=1\n",
    "            \n",
    "    for item in fail_list:\n",
    "        if is_integer(item):\n",
    "            print('\\tItem ', item, ' incorrectly identified as an integer')\n",
    "            flag=1\n",
    "            \n",
    "    if flag == 0:\n",
    "        print('Test is successful')\n",
    "        \n",
    "    else:\n",
    "        print('\\nTask is not successful')\n",
    "            \n",
    "            "
   ]
  },
  {
   "cell_type": "code",
   "execution_count": 4,
   "metadata": {},
   "outputs": [
    {
     "name": "stdout",
     "output_type": "stream",
     "text": [
      "Test is successful\n"
     ]
    }
   ],
   "source": [
    "is_integer_test()"
   ]
  },
  {
   "cell_type": "markdown",
   "metadata": {},
   "source": [
    "Search if better than match, as in this case all the logic is in the pattern, whereas in the match case, the logic was divided, the match looked for starting and $ checks matches the  ending part. "
   ]
  },
  {
   "cell_type": "markdown",
   "metadata": {},
   "source": [
    "## re.findall - Find all the matches¶\n",
    "Return all non-overlapping matches of pattern in string, as a list of strings. The string is scanned left-to-right, and matches are returned in the order found. If one or more groups are present in the pattern, return a list of groups; this will be a list of tuples if the pattern has more than one group. Empty matches are included in the result."
   ]
  },
  {
   "cell_type": "code",
   "execution_count": 5,
   "metadata": {},
   "outputs": [
    {
     "name": "stdout",
     "output_type": "stream",
     "text": [
      "matches are -  ['42', '99', '100']\n"
     ]
    }
   ],
   "source": [
    "text = \"My runs after three games are 42, 99 and 100\"\n",
    "\n",
    "pattern = r'\\d+'\n",
    "match = re.findall(pattern,text)\n",
    "\n",
    "\n",
    "if match:\n",
    "    print('matches are - ',match)\n",
    "else:\n",
    "    print('No match')"
   ]
  },
  {
   "cell_type": "markdown",
   "metadata": {},
   "source": [
    "The problem with re.findall is that it runs over the entire text, and may get stuck if there's a large corpus. "
   ]
  },
  {
   "cell_type": "markdown",
   "metadata": {},
   "source": [
    "## re.finditer - Iterator¶\n",
    "Return an iterator yielding match objects over all non-overlapping matches for the RE pattern in string. The string is scanned left-to-right, and matches are returned in the order found. Empty matches are included in the result."
   ]
  },
  {
   "cell_type": "code",
   "execution_count": 6,
   "metadata": {},
   "outputs": [
    {
     "name": "stdout",
     "output_type": "stream",
     "text": [
      "matches are -  <callable_iterator object at 0x7fd12842e520>\n",
      "42 at position -  30\n",
      "99 at position -  34\n",
      "100 at position -  41\n"
     ]
    }
   ],
   "source": [
    "text = \"My runs after three games are 42, 99 and 100\"\n",
    "\n",
    "pattern = r'\\d+'\n",
    "matches = re.finditer(pattern,text)\n",
    "\n",
    "\n",
    "if matches:\n",
    "    print('matches are - ',matches)\n",
    "else:\n",
    "    print('No match')\n",
    "    \n",
    "for temp in matches:\n",
    "    print(temp.group(0), 'at position - ',temp.start(0))"
   ]
  },
  {
   "cell_type": "markdown",
   "metadata": {},
   "source": [
    "<h2>groups - find sub matches </h2>\n",
    "group 0 = refers to the text in a string that matched the pattern<br>\n",
    "group 1..n onwards refer to the sub-groups"
   ]
  },
  {
   "cell_type": "code",
   "execution_count": 25,
   "metadata": {},
   "outputs": [
    {
     "name": "stdout",
     "output_type": "stream",
     "text": [
      "Match  06022021  at position  16\n",
      "{'date': '06', 'month': '02', 'year': '2021'}\n",
      "Date -  06\n",
      "Month -  02\n",
      "Year -  2021\n",
      "06\n",
      "02\n",
      "2021\n"
     ]
    }
   ],
   "source": [
    "pattern = r'(?P<date>\\d{2})(?P<month>\\d{2})(?P<year>\\d{4})'\n",
    "sent = 'today\"s data is 06022021' # it only shows the first number\n",
    "\n",
    "match = re.search(pattern,sent)\n",
    "\n",
    "if match:\n",
    "    print('Match ',match.group(0),' at position ',match.start())\n",
    "    print(match.groupdict())\n",
    "    print('Date - ',match.group(1))\n",
    "    print('Month - ',match.group(2))\n",
    "    print('Year - ',match.group(3))\n",
    "    \n",
    "    print(match.group('date')) # accessing groups through name\n",
    "    print(match.group('month'))\n",
    "    print(match.group('year'))\n",
    "else:\n",
    "    print('No match')"
   ]
  },
  {
   "cell_type": "code",
   "execution_count": null,
   "metadata": {},
   "outputs": [],
   "source": []
  }
 ],
 "metadata": {
  "kernelspec": {
   "display_name": "Python 3",
   "language": "python",
   "name": "python3"
  },
  "language_info": {
   "codemirror_mode": {
    "name": "ipython",
    "version": 3
   },
   "file_extension": ".py",
   "mimetype": "text/x-python",
   "name": "python",
   "nbconvert_exporter": "python",
   "pygments_lexer": "ipython3",
   "version": "3.8.3"
  }
 },
 "nbformat": 4,
 "nbformat_minor": 4
}
